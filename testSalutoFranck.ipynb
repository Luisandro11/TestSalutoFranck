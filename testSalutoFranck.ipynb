{
 "cells": [
  {
   "cell_type": "code",
   "execution_count": null,
   "id": "802b2444",
   "metadata": {},
   "outputs": [],
   "source": [
    "print (\"Hello Franck\")"
   ]
  }
 ],
 "metadata": {
  "language_info": {
   "name": "python"
  }
 },
 "nbformat": 4,
 "nbformat_minor": 5
}
