{
 "cells": [
  {
   "cell_type": "code",
   "execution_count": null,
   "id": "802b2444",
   "metadata": {},
   "outputs": [],
   "source": [
    "print (\"Hello Franck\")\n",
    "print (\"Hello marco\")\n",
    "\n",
    "print (\"branches\")\n",
    "\n",
    "print(\"prova1\")"
   ]
  }
 ],
 "metadata": {
  "language_info": {
   "name": "python"
  }
 },
 "nbformat": 4,
 "nbformat_minor": 5
}
